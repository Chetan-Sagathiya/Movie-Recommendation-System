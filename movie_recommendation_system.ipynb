{
  "nbformat": 4,
  "nbformat_minor": 0,
  "metadata": {
    "colab": {
      "name": "movie-recommendation-system",
      "provenance": [],
      "collapsed_sections": [],
      "mount_file_id": "https://github.com/Chetan-Sagathiya/Movie-Recommendation-System/blob/master/movie_recommendation_system.ipynb",
      "authorship_tag": "ABX9TyP5fIAVxMTvvYSIUL5INZjI",
      "include_colab_link": true
    },
    "kernelspec": {
      "name": "python3",
      "display_name": "Python 3"
    },
    "language_info": {
      "name": "python"
    }
  },
  "cells": [
    {
      "cell_type": "markdown",
      "metadata": {
        "id": "view-in-github",
        "colab_type": "text"
      },
      "source": [
        "<a href=\"https://colab.research.google.com/github/Chetan-Sagathiya/Movie-Recommendation-System/blob/master/movie_recommendation_system.ipynb\" target=\"_parent\"><img src=\"https://colab.research.google.com/assets/colab-badge.svg\" alt=\"Open In Colab\"/></a>"
      ]
    },
    {
      "cell_type": "code",
      "metadata": {
        "id": "xGodLuYqeIdY"
      },
      "source": [
        "import pandas as pd\n",
        "import numpy as np"
      ],
      "execution_count": 9,
      "outputs": []
    },
    {
      "cell_type": "code",
      "metadata": {
        "id": "UzhqUczxXYwG"
      },
      "source": [
        "movies.to_csv(\"/content/drive/MyDrive/ml_datasets/movie-recommendation-system/movies.csv\")"
      ],
      "execution_count": 42,
      "outputs": []
    },
    {
      "cell_type": "code",
      "metadata": {
        "colab": {
          "base_uri": "https://localhost:8080/",
          "height": 284
        },
        "id": "wgYRqq7GeY09",
        "outputId": "1a430dcc-e188-406c-e4c0-0890b495a4de"
      },
      "source": [
        "movies = pd.read_csv(\"/content/drive/MyDrive/ml_datasets/movie-recommendation-system/movies.csv\")\n",
        "movies.head(2)"
      ],
      "execution_count": 43,
      "outputs": [
        {
          "output_type": "execute_result",
          "data": {
            "text/html": [
              "<div>\n",
              "<style scoped>\n",
              "    .dataframe tbody tr th:only-of-type {\n",
              "        vertical-align: middle;\n",
              "    }\n",
              "\n",
              "    .dataframe tbody tr th {\n",
              "        vertical-align: top;\n",
              "    }\n",
              "\n",
              "    .dataframe thead th {\n",
              "        text-align: right;\n",
              "    }\n",
              "</style>\n",
              "<table border=\"1\" class=\"dataframe\">\n",
              "  <thead>\n",
              "    <tr style=\"text-align: right;\">\n",
              "      <th></th>\n",
              "      <th>Unnamed: 0</th>\n",
              "      <th>id</th>\n",
              "      <th>imdb_id</th>\n",
              "      <th>popularity</th>\n",
              "      <th>budget</th>\n",
              "      <th>revenue</th>\n",
              "      <th>original_title</th>\n",
              "      <th>cast</th>\n",
              "      <th>homepage</th>\n",
              "      <th>director</th>\n",
              "      <th>tagline</th>\n",
              "      <th>keywords</th>\n",
              "      <th>overview</th>\n",
              "      <th>runtime</th>\n",
              "      <th>genres</th>\n",
              "      <th>production_companies</th>\n",
              "      <th>release_date</th>\n",
              "      <th>vote_count</th>\n",
              "      <th>vote_average</th>\n",
              "      <th>release_year</th>\n",
              "      <th>budget_adj</th>\n",
              "      <th>revenue_adj</th>\n",
              "      <th>year</th>\n",
              "    </tr>\n",
              "  </thead>\n",
              "  <tbody>\n",
              "    <tr>\n",
              "      <th>0</th>\n",
              "      <td>0</td>\n",
              "      <td>135397</td>\n",
              "      <td>tt0369610</td>\n",
              "      <td>32.985763</td>\n",
              "      <td>150000000</td>\n",
              "      <td>1513528810</td>\n",
              "      <td>Jurassic World</td>\n",
              "      <td>Chris Pratt|Bryce Dallas Howard|Irrfan Khan|Vi...</td>\n",
              "      <td>http://www.jurassicworld.com/</td>\n",
              "      <td>Colin Trevorrow</td>\n",
              "      <td>The park is open.</td>\n",
              "      <td>monster|dna|tyrannosaurus rex|velociraptor|island</td>\n",
              "      <td>Twenty-two years after the events of Jurassic ...</td>\n",
              "      <td>124</td>\n",
              "      <td>Action|Adventure|Science Fiction|Thriller</td>\n",
              "      <td>Universal Studios|Amblin Entertainment|Legenda...</td>\n",
              "      <td>6/9/15</td>\n",
              "      <td>5562</td>\n",
              "      <td>6.5</td>\n",
              "      <td>2015</td>\n",
              "      <td>1.379999e+08</td>\n",
              "      <td>1.392446e+09</td>\n",
              "      <td>15</td>\n",
              "    </tr>\n",
              "    <tr>\n",
              "      <th>1</th>\n",
              "      <td>1</td>\n",
              "      <td>76341</td>\n",
              "      <td>tt1392190</td>\n",
              "      <td>28.419936</td>\n",
              "      <td>150000000</td>\n",
              "      <td>378436354</td>\n",
              "      <td>Mad Max: Fury Road</td>\n",
              "      <td>Tom Hardy|Charlize Theron|Hugh Keays-Byrne|Nic...</td>\n",
              "      <td>http://www.madmaxmovie.com/</td>\n",
              "      <td>George Miller</td>\n",
              "      <td>What a Lovely Day.</td>\n",
              "      <td>future|chase|post-apocalyptic|dystopia|australia</td>\n",
              "      <td>An apocalyptic story set in the furthest reach...</td>\n",
              "      <td>120</td>\n",
              "      <td>Action|Adventure|Science Fiction|Thriller</td>\n",
              "      <td>Village Roadshow Pictures|Kennedy Miller Produ...</td>\n",
              "      <td>5/13/15</td>\n",
              "      <td>6185</td>\n",
              "      <td>7.1</td>\n",
              "      <td>2015</td>\n",
              "      <td>1.379999e+08</td>\n",
              "      <td>3.481613e+08</td>\n",
              "      <td>15</td>\n",
              "    </tr>\n",
              "  </tbody>\n",
              "</table>\n",
              "</div>"
            ],
            "text/plain": [
              "   Unnamed: 0      id    imdb_id  ...    budget_adj   revenue_adj  year\n",
              "0           0  135397  tt0369610  ...  1.379999e+08  1.392446e+09    15\n",
              "1           1   76341  tt1392190  ...  1.379999e+08  3.481613e+08    15\n",
              "\n",
              "[2 rows x 23 columns]"
            ]
          },
          "metadata": {
            "tags": []
          },
          "execution_count": 43
        }
      ]
    },
    {
      "cell_type": "code",
      "metadata": {
        "colab": {
          "base_uri": "https://localhost:8080/"
        },
        "id": "-zpRo3j2ezGW",
        "outputId": "d95b8692-108c-4e07-f7db-1b9bd9a8e83e"
      },
      "source": [
        "movies.shape"
      ],
      "execution_count": 11,
      "outputs": [
        {
          "output_type": "execute_result",
          "data": {
            "text/plain": [
              "(10866, 21)"
            ]
          },
          "metadata": {
            "tags": []
          },
          "execution_count": 11
        }
      ]
    },
    {
      "cell_type": "code",
      "metadata": {
        "colab": {
          "base_uri": "https://localhost:8080/"
        },
        "id": "4Dwr9tdme7p-",
        "outputId": "b12f033e-17e8-4cab-9421-9681b3213a6c"
      },
      "source": [
        "movies.info()"
      ],
      "execution_count": 12,
      "outputs": [
        {
          "output_type": "stream",
          "text": [
            "<class 'pandas.core.frame.DataFrame'>\n",
            "RangeIndex: 10866 entries, 0 to 10865\n",
            "Data columns (total 21 columns):\n",
            " #   Column                Non-Null Count  Dtype  \n",
            "---  ------                --------------  -----  \n",
            " 0   id                    10866 non-null  int64  \n",
            " 1   imdb_id               10856 non-null  object \n",
            " 2   popularity            10866 non-null  float64\n",
            " 3   budget                10866 non-null  int64  \n",
            " 4   revenue               10866 non-null  int64  \n",
            " 5   original_title        10866 non-null  object \n",
            " 6   cast                  10790 non-null  object \n",
            " 7   homepage              2936 non-null   object \n",
            " 8   director              10822 non-null  object \n",
            " 9   tagline               8042 non-null   object \n",
            " 10  keywords              9373 non-null   object \n",
            " 11  overview              10862 non-null  object \n",
            " 12  runtime               10866 non-null  int64  \n",
            " 13  genres                10843 non-null  object \n",
            " 14  production_companies  9836 non-null   object \n",
            " 15  release_date          10866 non-null  object \n",
            " 16  vote_count            10866 non-null  int64  \n",
            " 17  vote_average          10866 non-null  float64\n",
            " 18  release_year          10866 non-null  int64  \n",
            " 19  budget_adj            10866 non-null  float64\n",
            " 20  revenue_adj           10866 non-null  float64\n",
            "dtypes: float64(4), int64(6), object(11)\n",
            "memory usage: 1.7+ MB\n"
          ],
          "name": "stdout"
        }
      ]
    },
    {
      "cell_type": "code",
      "metadata": {
        "id": "_B72T99zj8Km"
      },
      "source": [
        "def get_year(release_date):\n",
        "  release_date = release_date.split('/')\n",
        "  return release_date[2]"
      ],
      "execution_count": 13,
      "outputs": []
    },
    {
      "cell_type": "code",
      "metadata": {
        "id": "uqOU1qRBkncK"
      },
      "source": [
        "movies['year'] = movies['release_date'].apply(lambda x: get_year(x))"
      ],
      "execution_count": 14,
      "outputs": []
    },
    {
      "cell_type": "code",
      "metadata": {
        "colab": {
          "base_uri": "https://localhost:8080/",
          "height": 880
        },
        "id": "GFIRjwaTkt7Q",
        "outputId": "c549381d-2a87-4636-ab96-9ceba0cc9473"
      },
      "source": [
        "import matplotlib.pyplot as plt\n",
        "movies.year.value_counts().sort_index().plot(kind='barh', figsize=(15,15))"
      ],
      "execution_count": 15,
      "outputs": [
        {
          "output_type": "execute_result",
          "data": {
            "text/plain": [
              "<matplotlib.axes._subplots.AxesSubplot at 0x7ff9134d0550>"
            ]
          },
          "metadata": {
            "tags": []
          },
          "execution_count": 15
        },
        {
          "output_type": "display_data",
          "data": {
            "image/png": "[encoded data removed]",
            "text/plain": [
              "<Figure size 1080x1080 with 1 Axes>"
            ]
          },
          "metadata": {
            "tags": [],
            "needs_background": "light"
          }
        }
      ]
    },
    {
      "cell_type": "code",
      "metadata": {
        "colab": {
          "base_uri": "https://localhost:8080/",
          "height": 289
        },
        "id": "rL4XB9a-e-am",
        "outputId": "b78d56b5-99a7-4d16-d3d9-1c3ce81d18b8"
      },
      "source": [
        "data = movies[['original_title', 'cast', 'director', 'genres', 'keywords']]\n",
        "data.head()"
      ],
      "execution_count": 16,
      "outputs": [
        {
          "output_type": "execute_result",
          "data": {
            "text/html": [
              "<div>\n",
              "<style scoped>\n",
              "    .dataframe tbody tr th:only-of-type {\n",
              "        vertical-align: middle;\n",
              "    }\n",
              "\n",
              "    .dataframe tbody tr th {\n",
              "        vertical-align: top;\n",
              "    }\n",
              "\n",
              "    .dataframe thead th {\n",
              "        text-align: right;\n",
              "    }\n",
              "</style>\n",
              "<table border=\"1\" class=\"dataframe\">\n",
              "  <thead>\n",
              "    <tr style=\"text-align: right;\">\n",
              "      <th></th>\n",
              "      <th>original_title</th>\n",
              "      <th>cast</th>\n",
              "      <th>director</th>\n",
              "      <th>genres</th>\n",
              "      <th>keywords</th>\n",
              "    </tr>\n",
              "  </thead>\n",
              "  <tbody>\n",
              "    <tr>\n",
              "      <th>0</th>\n",
              "      <td>Jurassic World</td>\n",
              "      <td>Chris Pratt|Bryce Dallas Howard|Irrfan Khan|Vi...</td>\n",
              "      <td>Colin Trevorrow</td>\n",
              "      <td>Action|Adventure|Science Fiction|Thriller</td>\n",
              "      <td>monster|dna|tyrannosaurus rex|velociraptor|island</td>\n",
              "    </tr>\n",
              "    <tr>\n",
              "      <th>1</th>\n",
              "      <td>Mad Max: Fury Road</td>\n",
              "      <td>Tom Hardy|Charlize Theron|Hugh Keays-Byrne|Nic...</td>\n",
              "      <td>George Miller</td>\n",
              "      <td>Action|Adventure|Science Fiction|Thriller</td>\n",
              "      <td>future|chase|post-apocalyptic|dystopia|australia</td>\n",
              "    </tr>\n",
              "    <tr>\n",
              "      <th>2</th>\n",
              "      <td>Insurgent</td>\n",
              "      <td>Shailene Woodley|Theo James|Kate Winslet|Ansel...</td>\n",
              "      <td>Robert Schwentke</td>\n",
              "      <td>Adventure|Science Fiction|Thriller</td>\n",
              "      <td>based on novel|revolution|dystopia|sequel|dyst...</td>\n",
              "    </tr>\n",
              "    <tr>\n",
              "      <th>3</th>\n",
              "      <td>Star Wars: The Force Awakens</td>\n",
              "      <td>Harrison Ford|Mark Hamill|Carrie Fisher|Adam D...</td>\n",
              "      <td>J.J. Abrams</td>\n",
              "      <td>Action|Adventure|Science Fiction|Fantasy</td>\n",
              "      <td>android|spaceship|jedi|space opera|3d</td>\n",
              "    </tr>\n",
              "    <tr>\n",
              "      <th>4</th>\n",
              "      <td>Furious 7</td>\n",
              "      <td>Vin Diesel|Paul Walker|Jason Statham|Michelle ...</td>\n",
              "      <td>James Wan</td>\n",
              "      <td>Action|Crime|Thriller</td>\n",
              "      <td>car race|speed|revenge|suspense|car</td>\n",
              "    </tr>\n",
              "  </tbody>\n",
              "</table>\n",
              "</div>"
            ],
            "text/plain": [
              "                 original_title  ...                                           keywords\n",
              "0                Jurassic World  ...  monster|dna|tyrannosaurus rex|velociraptor|island\n",
              "1            Mad Max: Fury Road  ...   future|chase|post-apocalyptic|dystopia|australia\n",
              "2                     Insurgent  ...  based on novel|revolution|dystopia|sequel|dyst...\n",
              "3  Star Wars: The Force Awakens  ...              android|spaceship|jedi|space opera|3d\n",
              "4                     Furious 7  ...                car race|speed|revenge|suspense|car\n",
              "\n",
              "[5 rows x 5 columns]"
            ]
          },
          "metadata": {
            "tags": []
          },
          "execution_count": 16
        }
      ]
    },
    {
      "cell_type": "code",
      "metadata": {
        "colab": {
          "base_uri": "https://localhost:8080/"
        },
        "id": "xvFDlXjpja8n",
        "outputId": "11baef2d-277f-4759-b7a6-5c596cb7391a"
      },
      "source": [
        "data.isnull().sum()"
      ],
      "execution_count": 17,
      "outputs": [
        {
          "output_type": "execute_result",
          "data": {
            "text/plain": [
              "original_title       0\n",
              "cast                76\n",
              "director            44\n",
              "genres              23\n",
              "keywords          1493\n",
              "dtype: int64"
            ]
          },
          "metadata": {
            "tags": []
          },
          "execution_count": 17
        }
      ]
    },
    {
      "cell_type": "code",
      "metadata": {
        "id": "sz9N5EWHjmmb"
      },
      "source": [
        "data = data.fillna('')"
      ],
      "execution_count": 18,
      "outputs": []
    },
    {
      "cell_type": "code",
      "metadata": {
        "id": "EfKV6vgzj_7C"
      },
      "source": [
        "data = data.reset_index()"
      ],
      "execution_count": 21,
      "outputs": []
    },
    {
      "cell_type": "code",
      "metadata": {
        "id": "6KyF-GGinvFf"
      },
      "source": [
        "data['genres'] = data['genres'].apply(lambda x: x.replace('|', ' '))"
      ],
      "execution_count": 22,
      "outputs": []
    },
    {
      "cell_type": "code",
      "metadata": {
        "id": "EiELgzgipV6Y"
      },
      "source": [
        "def sci_fi(genres):\n",
        "  lst = []\n",
        "  genres = genres.split(\"|\")\n",
        "  for genre in genres:\n",
        "    if genre == \"Science Fiction\":\n",
        "      lst.append(\"Sci-fi\")\n",
        "    else:\n",
        "      lst.append(genre)\n",
        "  return ' '.join(lst)"
      ],
      "execution_count": 23,
      "outputs": []
    },
    {
      "cell_type": "code",
      "metadata": {
        "id": "r6-X-a3TqSjL"
      },
      "source": [
        "data['genres'] = data['genres'].apply(lambda x: sci_fi(x))"
      ],
      "execution_count": 24,
      "outputs": []
    },
    {
      "cell_type": "code",
      "metadata": {
        "id": "dizP_xWOWkKV"
      },
      "source": [
        "data['keywords'] = data['keywords'].apply(lambda x: x.replace('|', ' '))"
      ],
      "execution_count": 26,
      "outputs": []
    },
    {
      "cell_type": "code",
      "metadata": {
        "colab": {
          "base_uri": "https://localhost:8080/",
          "height": 145
        },
        "id": "e2xEzcFFvUPN",
        "outputId": "e1f7255e-4911-4184-8ae7-9b7cb4d66d6d"
      },
      "source": [
        "data.head(2)"
      ],
      "execution_count": 27,
      "outputs": [
        {
          "output_type": "execute_result",
          "data": {
            "text/html": [
              "<div>\n",
              "<style scoped>\n",
              "    .dataframe tbody tr th:only-of-type {\n",
              "        vertical-align: middle;\n",
              "    }\n",
              "\n",
              "    .dataframe tbody tr th {\n",
              "        vertical-align: top;\n",
              "    }\n",
              "\n",
              "    .dataframe thead th {\n",
              "        text-align: right;\n",
              "    }\n",
              "</style>\n",
              "<table border=\"1\" class=\"dataframe\">\n",
              "  <thead>\n",
              "    <tr style=\"text-align: right;\">\n",
              "      <th></th>\n",
              "      <th>index</th>\n",
              "      <th>original_title</th>\n",
              "      <th>cast</th>\n",
              "      <th>director</th>\n",
              "      <th>genres</th>\n",
              "      <th>keywords</th>\n",
              "    </tr>\n",
              "  </thead>\n",
              "  <tbody>\n",
              "    <tr>\n",
              "      <th>0</th>\n",
              "      <td>0</td>\n",
              "      <td>Jurassic World</td>\n",
              "      <td>Chris Pratt|Bryce Dallas Howard|Irrfan Khan|Vi...</td>\n",
              "      <td>Colin Trevorrow</td>\n",
              "      <td>Action Adventure Science Fiction Thriller</td>\n",
              "      <td>monster dna tyrannosaurus rex velociraptor island</td>\n",
              "    </tr>\n",
              "    <tr>\n",
              "      <th>1</th>\n",
              "      <td>1</td>\n",
              "      <td>Mad Max: Fury Road</td>\n",
              "      <td>Tom Hardy|Charlize Theron|Hugh Keays-Byrne|Nic...</td>\n",
              "      <td>George Miller</td>\n",
              "      <td>Action Adventure Science Fiction Thriller</td>\n",
              "      <td>future chase post-apocalyptic dystopia australia</td>\n",
              "    </tr>\n",
              "  </tbody>\n",
              "</table>\n",
              "</div>"
            ],
            "text/plain": [
              "   index  ...                                           keywords\n",
              "0      0  ...  monster dna tyrannosaurus rex velociraptor island\n",
              "1      1  ...   future chase post-apocalyptic dystopia australia\n",
              "\n",
              "[2 rows x 6 columns]"
            ]
          },
          "metadata": {
            "tags": []
          },
          "execution_count": 27
        }
      ]
    },
    {
      "cell_type": "code",
      "metadata": {
        "id": "nq7BoHQSvc3X"
      },
      "source": [
        "def get_actor1(actors):\n",
        "  actors = actors.split('|')\n",
        "  return actors[0]\n",
        "\n",
        "def get_actor2(actors):\n",
        "  actors = actors.split('|')\n",
        "  if len(actors) > 1:\n",
        "    return actors[1]\n",
        "  else:\n",
        "    return 'unknown'\n",
        "  \n",
        "def get_actor3(actors):\n",
        "  actors = actors.split('|')\n",
        "  if len(actors) > 2:\n",
        "    return actors[2]\n",
        "  else:\n",
        "    return 'unknown'\n"
      ],
      "execution_count": 28,
      "outputs": []
    },
    {
      "cell_type": "code",
      "metadata": {
        "id": "a_6E4McUvn7z"
      },
      "source": [
        "data['actor_1'] = data['cast'].apply(lambda x: get_actor1(x))\n",
        "data['actor_2'] = data['cast'].apply(lambda x: get_actor2(x))\n",
        "data['actor_3'] = data['cast'].apply(lambda x: get_actor3(x))"
      ],
      "execution_count": 29,
      "outputs": []
    },
    {
      "cell_type": "code",
      "metadata": {
        "colab": {
          "base_uri": "https://localhost:8080/",
          "height": 374
        },
        "id": "SV1egyTAvqFm",
        "outputId": "a77e396a-29b6-499d-a2e0-b47bae5fe015"
      },
      "source": [
        "data.head()"
      ],
      "execution_count": 30,
      "outputs": [
        {
          "output_type": "execute_result",
          "data": {
            "text/html": [
              "<div>\n",
              "<style scoped>\n",
              "    .dataframe tbody tr th:only-of-type {\n",
              "        vertical-align: middle;\n",
              "    }\n",
              "\n",
              "    .dataframe tbody tr th {\n",
              "        vertical-align: top;\n",
              "    }\n",
              "\n",
              "    .dataframe thead th {\n",
              "        text-align: right;\n",
              "    }\n",
              "</style>\n",
              "<table border=\"1\" class=\"dataframe\">\n",
              "  <thead>\n",
              "    <tr style=\"text-align: right;\">\n",
              "      <th></th>\n",
              "      <th>index</th>\n",
              "      <th>original_title</th>\n",
              "      <th>cast</th>\n",
              "      <th>director</th>\n",
              "      <th>genres</th>\n",
              "      <th>keywords</th>\n",
              "      <th>actor_1</th>\n",
              "      <th>actor_2</th>\n",
              "      <th>actor_3</th>\n",
              "    </tr>\n",
              "  </thead>\n",
              "  <tbody>\n",
              "    <tr>\n",
              "      <th>0</th>\n",
              "      <td>0</td>\n",
              "      <td>Jurassic World</td>\n",
              "      <td>Chris Pratt|Bryce Dallas Howard|Irrfan Khan|Vi...</td>\n",
              "      <td>Colin Trevorrow</td>\n",
              "      <td>Action Adventure Science Fiction Thriller</td>\n",
              "      <td>monster dna tyrannosaurus rex velociraptor island</td>\n",
              "      <td>Chris Pratt</td>\n",
              "      <td>Bryce Dallas Howard</td>\n",
              "      <td>Irrfan Khan</td>\n",
              "    </tr>\n",
              "    <tr>\n",
              "      <th>1</th>\n",
              "      <td>1</td>\n",
              "      <td>Mad Max: Fury Road</td>\n",
              "      <td>Tom Hardy|Charlize Theron|Hugh Keays-Byrne|Nic...</td>\n",
              "      <td>George Miller</td>\n",
              "      <td>Action Adventure Science Fiction Thriller</td>\n",
              "      <td>future chase post-apocalyptic dystopia australia</td>\n",
              "      <td>Tom Hardy</td>\n",
              "      <td>Charlize Theron</td>\n",
              "      <td>Hugh Keays-Byrne</td>\n",
              "    </tr>\n",
              "    <tr>\n",
              "      <th>2</th>\n",
              "      <td>2</td>\n",
              "      <td>Insurgent</td>\n",
              "      <td>Shailene Woodley|Theo James|Kate Winslet|Ansel...</td>\n",
              "      <td>Robert Schwentke</td>\n",
              "      <td>Adventure Science Fiction Thriller</td>\n",
              "      <td>based on novel revolution dystopia sequel dyst...</td>\n",
              "      <td>Shailene Woodley</td>\n",
              "      <td>Theo James</td>\n",
              "      <td>Kate Winslet</td>\n",
              "    </tr>\n",
              "    <tr>\n",
              "      <th>3</th>\n",
              "      <td>3</td>\n",
              "      <td>Star Wars: The Force Awakens</td>\n",
              "      <td>Harrison Ford|Mark Hamill|Carrie Fisher|Adam D...</td>\n",
              "      <td>J.J. Abrams</td>\n",
              "      <td>Action Adventure Science Fiction Fantasy</td>\n",
              "      <td>android spaceship jedi space opera 3d</td>\n",
              "      <td>Harrison Ford</td>\n",
              "      <td>Mark Hamill</td>\n",
              "      <td>Carrie Fisher</td>\n",
              "    </tr>\n",
              "    <tr>\n",
              "      <th>4</th>\n",
              "      <td>4</td>\n",
              "      <td>Furious 7</td>\n",
              "      <td>Vin Diesel|Paul Walker|Jason Statham|Michelle ...</td>\n",
              "      <td>James Wan</td>\n",
              "      <td>Action Crime Thriller</td>\n",
              "      <td>car race speed revenge suspense car</td>\n",
              "      <td>Vin Diesel</td>\n",
              "      <td>Paul Walker</td>\n",
              "      <td>Jason Statham</td>\n",
              "    </tr>\n",
              "  </tbody>\n",
              "</table>\n",
              "</div>"
            ],
            "text/plain": [
              "   index                original_title  ...              actor_2           actor_3\n",
              "0      0                Jurassic World  ...  Bryce Dallas Howard       Irrfan Khan\n",
              "1      1            Mad Max: Fury Road  ...      Charlize Theron  Hugh Keays-Byrne\n",
              "2      2                     Insurgent  ...           Theo James      Kate Winslet\n",
              "3      3  Star Wars: The Force Awakens  ...          Mark Hamill     Carrie Fisher\n",
              "4      4                     Furious 7  ...          Paul Walker     Jason Statham\n",
              "\n",
              "[5 rows x 9 columns]"
            ]
          },
          "metadata": {
            "tags": []
          },
          "execution_count": 30
        }
      ]
    },
    {
      "cell_type": "code",
      "metadata": {
        "id": "43iLO33QyDYY"
      },
      "source": [
        "data['comb'] = data['director'] + ' ' + data['actor_1'] + ' ' + data['actor_2'] + ' ' + data['actor_3'] + ' ' + data['genres']+ ' ' + data['keywords']"
      ],
      "execution_count": 31,
      "outputs": []
    },
    {
      "cell_type": "code",
      "metadata": {
        "id": "oS8slPDKQ53k"
      },
      "source": [
        "from sklearn.metrics.pairwise import cosine_similarity\n",
        "from sklearn.feature_extraction.text import CountVectorizer"
      ],
      "execution_count": 32,
      "outputs": []
    },
    {
      "cell_type": "code",
      "metadata": {
        "id": "jdCtIjCNTqxQ"
      },
      "source": [
        "cv = CountVectorizer()\n",
        "count_matrix = cv.fit_transform(data['comb'])"
      ],
      "execution_count": 33,
      "outputs": []
    },
    {
      "cell_type": "code",
      "metadata": {
        "id": "H6XC4miySoYP"
      },
      "source": [
        "cosine_sim = cosine_similarity(count_matrix)"
      ],
      "execution_count": 34,
      "outputs": []
    },
    {
      "cell_type": "code",
      "metadata": {
        "id": "6tEo67PwUSk3",
        "colab": {
          "base_uri": "https://localhost:8080/"
        },
        "outputId": "8c40f440-526f-49e9-afb9-f9b2fedc74a1"
      },
      "source": [
        "cosine_sim"
      ],
      "execution_count": 35,
      "outputs": [
        {
          "output_type": "execute_result",
          "data": {
            "text/plain": [
              "array([[1.        , 0.25      , 0.2       , ..., 0.        , 0.06741999,\n",
              "        0.        ],\n",
              "       [0.25      , 1.        , 0.3       , ..., 0.        , 0.06741999,\n",
              "        0.05270463],\n",
              "       [0.2       , 0.3       , 1.        , ..., 0.        , 0.        ,\n",
              "        0.        ],\n",
              "       ...,\n",
              "       [0.        , 0.        , 0.        , ..., 1.        , 0.07537784,\n",
              "        0.        ],\n",
              "       [0.06741999, 0.06741999, 0.        , ..., 0.07537784, 1.        ,\n",
              "        0.        ],\n",
              "       [0.        , 0.05270463, 0.        , ..., 0.        , 0.        ,\n",
              "        1.        ]])"
            ]
          },
          "metadata": {
            "tags": []
          },
          "execution_count": 35
        }
      ]
    },
    {
      "cell_type": "code",
      "metadata": {
        "id": "0fF3Srv2jQjk",
        "outputId": "7a8bf376-5241-419d-e991-6b2f9f772b04",
        "colab": {
          "base_uri": "https://localhost:8080/"
        }
      },
      "source": [
        "count_matrix.toarray()"
      ],
      "execution_count": 36,
      "outputs": [
        {
          "output_type": "execute_result",
          "data": {
            "text/plain": [
              "array([[0, 0, 0, ..., 0, 0, 0],\n",
              "       [0, 0, 0, ..., 0, 0, 0],\n",
              "       [0, 0, 0, ..., 0, 0, 0],\n",
              "       ...,\n",
              "       [0, 0, 0, ..., 0, 0, 0],\n",
              "       [0, 0, 0, ..., 0, 0, 0],\n",
              "       [0, 0, 0, ..., 0, 0, 0]])"
            ]
          },
          "metadata": {
            "tags": []
          },
          "execution_count": 36
        }
      ]
    },
    {
      "cell_type": "code",
      "metadata": {
        "id": "8oN-g4a70VzB"
      },
      "source": [
        "def get_index_from_title(title):\n",
        "  return data[data['original_title'] == title]['index'].values[0]\n",
        "\n",
        "def get_title_from_index(index):\n",
        "  return data[data['index'] == index]['original_title'].values[0]"
      ],
      "execution_count": 37,
      "outputs": []
    },
    {
      "cell_type": "code",
      "metadata": {
        "id": "LoBU9jpL4Iff"
      },
      "source": [
        "index = get_index_from_title('Avatar')\n",
        "movie = get_title_from_index(index)"
      ],
      "execution_count": 38,
      "outputs": []
    },
    {
      "cell_type": "code",
      "metadata": {
        "id": "nTgqFHeN4TqM"
      },
      "source": [
        "similar_movies = list(enumerate(cosine_sim[index]))"
      ],
      "execution_count": 39,
      "outputs": []
    },
    {
      "cell_type": "code",
      "metadata": {
        "id": "2kFs_Iow7-Er",
        "outputId": "063bc707-8698-426e-b522-279d9de40730",
        "colab": {
          "base_uri": "https://localhost:8080/"
        }
      },
      "source": [
        "similar_movies = sorted(similar_movies, key=lambda x : x[1], reverse=True)[1:11]\n",
        "similar_movies"
      ],
      "execution_count": 40,
      "outputs": [
        {
          "output_type": "execute_result",
          "data": {
            "text/plain": [
              "[(630, 0.4681910919173118),\n",
              " (2592, 0.4334607234315054),\n",
              " (10472, 0.41962716370814124),\n",
              " (5435, 0.4170288281141495),\n",
              " (7309, 0.40009880202694836),\n",
              " (7825, 0.39130434782608703),\n",
              " (2691, 0.3640126041546321),\n",
              " (8062, 0.35400521619692155),\n",
              " (3, 0.3440312310280934),\n",
              " (7829, 0.3405026123034995)]"
            ]
          },
          "metadata": {
            "tags": []
          },
          "execution_count": 40
        }
      ]
    },
    {
      "cell_type": "code",
      "metadata": {
        "id": "XiegPc4S8OL8",
        "outputId": "dffc8d35-7cbd-4b63-ee68-cdfbee56a5e8",
        "colab": {
          "base_uri": "https://localhost:8080/"
        }
      },
      "source": [
        "recommended_movies = []\n",
        "for movie in similar_movies:\n",
        "  recommended_movies.append(get_title_from_index(movie[0]))\n",
        "\n",
        "recommended_movies"
      ],
      "execution_count": 41,
      "outputs": [
        {
          "output_type": "execute_result",
          "data": {
            "text/plain": [
              "['Guardians of the Galaxy',\n",
              " 'Babylon 5: A Call to Arms',\n",
              " 'Aliens',\n",
              " 'Star Trek Into Darkness',\n",
              " 'The Empire Strikes Back',\n",
              " 'Alien',\n",
              " 'Jason X',\n",
              " 'Metalstorm: The Destruction of Jared-Syn',\n",
              " 'Star Wars: The Force Awakens',\n",
              " 'Moonraker']"
            ]
          },
          "metadata": {
            "tags": []
          },
          "execution_count": 41
        }
      ]
    }
  ]
}